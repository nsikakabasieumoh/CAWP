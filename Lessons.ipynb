{
 "cells": [
  {
   "attachments": {},
   "cell_type": "markdown",
   "metadata": {},
   "source": [
    "# Basics"
   ]
  },
  {
   "cell_type": "code",
   "execution_count": 4,
   "metadata": {},
   "outputs": [
    {
     "name": "stdout",
     "output_type": "stream",
     "text": [
      "X =  [2]\n",
      "X =  [-2, 2]\n"
     ]
    }
   ],
   "source": [
    "# Import dependencies\n",
    "from sympy import symbols\n",
    "from sympy.solvers import solve\n",
    "\n",
    "x = symbols('x')\n",
    "\n",
    "# Put the equation here\n",
    "eq = x - 2\n",
    "eq1 = x**2 -4\n",
    "\n",
    "# Print outputs\n",
    "print('X = ', solve(eq, x))\n",
    "print('X = ', solve(eq1, x))"
   ]
  },
  {
   "cell_type": "code",
   "execution_count": 2,
   "metadata": {},
   "outputs": [
    {
     "name": "stdout",
     "output_type": "stream",
     "text": [
      "X = [9/2]\n"
     ]
    }
   ],
   "source": [
    "# Import dependencies\n",
    "from sympy import symbols\n",
    "from sympy.solvers import solve\n",
    "\n",
    "x = symbols('x')\n",
    "\n",
    "# Prompt for equation\n",
    "eq = input('Enter equation: 0 = ')\n",
    "\n",
    "print('X =', solve(eq, x))"
   ]
  },
  {
   "cell_type": "code",
   "execution_count": 5,
   "metadata": {},
   "outputs": [
    {
     "name": "stdout",
     "output_type": "stream",
     "text": [
      "[-5]\n"
     ]
    }
   ],
   "source": [
    "from sympy import *\n",
    "\n",
    "var('x y')\n",
    "\n",
    "first = 2*x + 10\n",
    "\n",
    "# Sympy sytax for equation equal to zero, ready to factor\n",
    "equation = Eq(first, 0)\n",
    "\n",
    "# Sympy solve\n",
    "solution = solve(equation, x)\n",
    "\n",
    "print(solution)"
   ]
  },
  {
   "cell_type": "code",
   "execution_count": 10,
   "metadata": {},
   "outputs": [
    {
     "data": {
      "text/latex": [
       "$\\displaystyle \\left(x - 3\\right) \\left(x - 1\\right) \\left(x + 2\\right)$"
      ],
      "text/plain": [
       "(x - 3)*(x - 1)*(x + 2)"
      ]
     },
     "execution_count": 10,
     "metadata": {},
     "output_type": "execute_result"
    }
   ],
   "source": [
    "# Factoring\n",
    "from sympy import *\n",
    "\n",
    "var('x y')\n",
    "\n",
    "# Equation set to zero, ready to solve\n",
    "eq1 = 2*x + 10*y + 4\n",
    "eq2 = 2*x + 10*y + 3\n",
    "eq3 = x**2 - 4\n",
    "eq4 = x**3 - 2*x**2 - 5*x + 6\n",
    "\n",
    "factor(eq4)"
   ]
  },
  {
   "cell_type": "code",
   "execution_count": 2,
   "metadata": {},
   "outputs": [
    {
     "data": {
      "text/plain": [
       "[{a: b/2 + 1/2}]"
      ]
     },
     "execution_count": 2,
     "metadata": {},
     "output_type": "execute_result"
    }
   ],
   "source": [
    "# More practice\n",
    "from sympy import *\n",
    "\n",
    "var('a b')\n",
    "\n",
    "eq = 2*a - 1\n",
    "eq1 = Eq(eq, b)\n",
    "\n",
    "solve(eq1)"
   ]
  },
  {
   "attachments": {},
   "cell_type": "markdown",
   "metadata": {},
   "source": [
    "# Converting Fractions and Decimals"
   ]
  },
  {
   "cell_type": "code",
   "execution_count": 4,
   "metadata": {},
   "outputs": [
    {
     "data": {
      "text/plain": [
       "3"
      ]
     },
     "execution_count": 4,
     "metadata": {},
     "output_type": "execute_result"
    }
   ],
   "source": [
    "# Considering only after the decimal point\n",
    "decimal = '.12'\n",
    "len(decimal)"
   ]
  },
  {
   "cell_type": "code",
   "execution_count": 9,
   "metadata": {},
   "outputs": [
    {
     "data": {
      "text/plain": [
       "'12/100'"
      ]
     },
     "execution_count": 9,
     "metadata": {},
     "output_type": "execute_result"
    }
   ],
   "source": [
    "# Try to get the fraction\n",
    "# First, we get the length of values after the decimal point\n",
    "exponent = len(decimal) - 1\n",
    "\n",
    "# Convert decimal to float\n",
    "n = float(decimal)\n",
    "\n",
    "# Get numerator\n",
    "numerator = int(n * 10 ** exponent)\n",
    "\n",
    "# Get denominator\n",
    "denominator = 10 ** exponent\n",
    "\n",
    "# Fraction\n",
    "fraction = f'{numerator}/{denominator}'\n",
    "fraction"
   ]
  },
  {
   "cell_type": "code",
   "execution_count": 15,
   "metadata": {},
   "outputs": [
    {
     "data": {
      "text/plain": [
       "('4', '22')"
      ]
     },
     "execution_count": 15,
     "metadata": {},
     "output_type": "execute_result"
    }
   ],
   "source": [
    "# Considering everything including before the decimal\n",
    "decimal = '4.22'\n",
    "before, after = decimal.split('.')\n",
    "before, after"
   ]
  },
  {
   "cell_type": "code",
   "execution_count": 16,
   "metadata": {},
   "outputs": [
    {
     "data": {
      "text/plain": [
       "'422/100'"
      ]
     },
     "execution_count": 16,
     "metadata": {},
     "output_type": "execute_result"
    }
   ],
   "source": [
    "# Get the length of values after the decimal point\n",
    "exponent = len(after)\n",
    "\n",
    "# Convert decimal to float\n",
    "n = float(decimal)\n",
    "\n",
    "# Get numerator\n",
    "numerator = int(n * 10 ** exponent)\n",
    "\n",
    "# Get denominator\n",
    "denominator = 10 ** exponent\n",
    "\n",
    "# Fraction\n",
    "fraction = f'{numerator}/{denominator}'\n",
    "fraction"
   ]
  },
  {
   "cell_type": "code",
   "execution_count": null,
   "metadata": {},
   "outputs": [],
   "source": []
  }
 ],
 "metadata": {
  "kernelspec": {
   "display_name": "Python 3",
   "language": "python",
   "name": "python3"
  },
  "language_info": {
   "codemirror_mode": {
    "name": "ipython",
    "version": 3
   },
   "file_extension": ".py",
   "mimetype": "text/x-python",
   "name": "python",
   "nbconvert_exporter": "python",
   "pygments_lexer": "ipython3",
   "version": "3.11.2"
  },
  "orig_nbformat": 4
 },
 "nbformat": 4,
 "nbformat_minor": 2
}
